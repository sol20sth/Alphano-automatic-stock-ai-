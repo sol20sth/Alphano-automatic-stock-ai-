{
 "cells": [
  {
   "cell_type": "code",
   "execution_count": 1,
   "metadata": {},
   "outputs": [
    {
     "name": "stdout",
     "output_type": "stream",
     "text": [
      "         Open    High     Low   Close   Volume    Change       ma5      ma10  \\\n",
      "0       52284   54140   52186   53164  1574443  0.016831   51912.6   53359.1   \n",
      "1       52968   52968   50818   50818  1096791 -0.044128   51932.2   53017.0   \n",
      "2       50818   52772   50329   52577  1286486  0.034614   51932.2   52606.5   \n",
      "3       51599   52968   51599   51795   884834 -0.014873   52127.6   52069.0   \n",
      "4       52284   53261   52186   52675   962529  0.016990   52205.8   52020.1   \n",
      "...       ...     ...     ...     ...      ...       ...       ...       ...   \n",
      "53268  137000  138000  134000  136500  1170212 -0.003650  131800.0  131050.0   \n",
      "53269  136500  140000  135500  138000   958151  0.010989  134300.0  131450.0   \n",
      "53270  139000  139500  137000  138000  1186045  0.000000  135800.0  132400.0   \n",
      "53271  138500  141500  138000  140500  1104635  0.018116  138000.0  133500.0   \n",
      "53272  140000  140500  138000  138000   703821 -0.017794  138200.0  134300.0   \n",
      "\n",
      "            ma20        rsi         %K         %D       bb_upper     bb_sma  \\\n",
      "0       53921.10  54.330487  43.306256  31.961881   60042.353738   53921.10   \n",
      "1       53315.20  51.879063  15.052817  30.793883   57880.511108   53315.20   \n",
      "2       53070.85  47.755272  34.408011  30.922361   57203.851217   53070.85   \n",
      "3       52875.35  41.377790  25.803257  25.088028   56850.608020   52875.35   \n",
      "4       52948.65  47.511459  35.486356  31.899208   56847.871854   52948.65   \n",
      "...          ...        ...        ...        ...            ...        ...   \n",
      "53268  126575.00  65.432099  85.714286  79.513280  137889.987732  126575.00   \n",
      "53269  127500.00  65.432099  89.189189  88.030888  139389.845291  127500.00   \n",
      "53270  128625.00  68.831169  89.189189  88.030888  139979.920102  128625.00   \n",
      "53271  129650.00  71.604938  95.000000  91.126126  141420.167463  129650.00   \n",
      "53272  130450.00  65.000000  78.125000  87.438063  142205.849608  130450.00   \n",
      "\n",
      "            bb_lower  volume_ma5  momentum  high_low_diff  \n",
      "0       47799.846262   2642951.0     391.0           1954  \n",
      "1       48749.888892   2010154.8      98.0           2150  \n",
      "2       48937.848783   1543254.0       0.0           2443  \n",
      "3       48900.091980   1354580.2     977.0           1369  \n",
      "4       49049.428146   1161016.6     391.0           1075  \n",
      "...              ...         ...       ...            ...  \n",
      "53268  115260.012268   1259104.0    7000.0           4000  \n",
      "53269  115610.154709   1277915.4   12500.0           4500  \n",
      "53270  117270.079898   1316385.8    7500.0           2500  \n",
      "53271  117879.832537   1396675.4   11000.0           3500  \n",
      "53272  118694.150392   1024572.8    1000.0           2500  \n",
      "\n",
      "[53273 rows x 18 columns]\n"
     ]
    }
   ],
   "source": [
    "import pandas as pd\n",
    "import numpy as np\n",
    "from sklearn.preprocessing import MinMaxScaler\n",
    "from keras.layers.core import Dense, Activation\n",
    "from keras.layers import LSTM\n",
    "from keras.models import Sequential\n",
    "\n",
    "# CSV 파일을 불러옵니다.\n",
    "data = pd.read_csv('data/066570_95_22.csv')\n",
    "print(data)"
   ]
  },
  {
   "cell_type": "code",
   "execution_count": null,
   "metadata": {},
   "outputs": [],
   "source": [
    "from sklearn.preprocessing import MinMaxScaler\n",
    "\n",
    "scaler = MinMaxScaler()\n",
    "# 스케일을 적용할 column을 정의합니다.\n",
    "scale_cols = ['Open', 'High', 'Low', 'Close', 'Volume']\n",
    "# 스케일 후 columns\n",
    "scaled = scaler.fit_transform(stock[scale_cols])\n",
    "scaled\n",
    "df = pd.DataFrame(scaled, columns=scale_cols)"
   ]
  },
  {
   "cell_type": "code",
   "execution_count": null,
   "metadata": {},
   "outputs": [],
   "source": []
  }
 ],
 "metadata": {
  "kernelspec": {
   "display_name": "Python 3 (ipykernel)",
   "language": "python",
   "name": "python3"
  },
  "language_info": {
   "codemirror_mode": {
    "name": "ipython",
    "version": 3
   },
   "file_extension": ".py",
   "mimetype": "text/x-python",
   "name": "python",
   "nbconvert_exporter": "python",
   "pygments_lexer": "ipython3",
   "version": "3.7.5"
  }
 },
 "nbformat": 4,
 "nbformat_minor": 2
}
