{
 "cells": [
  {
   "cell_type": "code",
   "execution_count": 6,
   "metadata": {},
   "outputs": [
    {
     "name": "stdout",
     "output_type": "stream",
     "text": [
      "           Date    Open    High     Low   Close  Volume    Change       ma5  \\\n",
      "281  2022-12-27  120500  121000  118000  121000  107898  0.008333  120900.0   \n",
      "282  2022-12-28  120500  123500  120500  120500   95776 -0.004132  120800.0   \n",
      "283  2022-12-29  120000  120000  115500  116000  116649 -0.037344  119600.0   \n",
      "\n",
      "         ma10      ma20  ...       S&P500        rsi         %K         %D  \\\n",
      "281  119400.0  118250.0  ...  3829.250000  54.761905  72.222222  74.951267   \n",
      "282  119600.0  118350.0  ...  3783.219971  54.761905  66.666667  69.103314   \n",
      "283  119600.0  118225.0  ...  3849.280029  46.938776  16.666667  51.851852   \n",
      "\n",
      "          bb_upper    bb_sma       bb_lower  volume_ma5  momentum  \\\n",
      "281  122502.616367  117950.0  113397.383633    132498.0    2000.0   \n",
      "282  122560.532578  118275.0  113989.467422    136545.0    3000.0   \n",
      "283  122552.152584  118150.0  113747.847416    114950.8   -5000.0   \n",
      "\n",
      "     high_low_diff  \n",
      "281           3000  \n",
      "282           3000  \n",
      "283           4500  \n",
      "\n",
      "[3 rows x 21 columns]\n"
     ]
    }
   ],
   "source": [
    "import pandas as pd\n",
    "import numpy as np\n",
    "import matplotlib.pyplot as plt\n",
    "import warnings\n",
    "import glob\n",
    "\n",
    "%matplotlib inline\n",
    "warnings.filterwarnings('ignore')\n",
    "\n",
    "plt.rcParams['font.family'] = 'NanumGothic'\n",
    "\n",
    "# CSV 파일들을 저장할 빈 DataFrame을 생성합니다.\n",
    "\n",
    "\n",
    "# data 폴더에 있는 모든 CSV 파일을 가져옵니다.\n",
    "csv_files = glob.glob('./high50data/*.csv')\n",
    "# print(csv_files)\n",
    "stock_num = '329180'\n",
    "stock = pd.DataFrame()\n",
    "file_path  = [csv for csv in csv_files if f'./high50data\\\\{stock_num}.csv' in csv][0]\n",
    "df = pd.read_csv(file_path)\n",
    "stock = pd.concat([stock, df], ignore_index=True)\n",
    "print(stock[-3:])"
   ]
  }
 ],
 "metadata": {
  "kernelspec": {
   "display_name": "Python 3",
   "language": "python",
   "name": "python3"
  },
  "language_info": {
   "codemirror_mode": {
    "name": "ipython",
    "version": 3
   },
   "file_extension": ".py",
   "mimetype": "text/x-python",
   "name": "python",
   "nbconvert_exporter": "python",
   "pygments_lexer": "ipython3",
   "version": "3.9.13"
  }
 },
 "nbformat": 4,
 "nbformat_minor": 2
}
